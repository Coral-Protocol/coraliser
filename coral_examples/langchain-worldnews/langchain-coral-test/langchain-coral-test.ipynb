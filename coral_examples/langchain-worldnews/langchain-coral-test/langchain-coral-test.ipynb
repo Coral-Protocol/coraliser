{
 "cells": [
  {
   "cell_type": "code",
   "execution_count": 1,
   "id": "ef53cf65",
   "metadata": {},
   "outputs": [],
   "source": [
    "import asyncio\n",
    "from time import sleep\n",
    "from langchain_mcp_adapters.client import MultiServerMCPClient\n",
    "from langchain_mcp_adapters.tools import load_mcp_tools"
   ]
  },
  {
   "cell_type": "code",
   "execution_count": 10,
   "id": "21266649",
   "metadata": {},
   "outputs": [
    {
     "name": "stdout",
     "output_type": "stream",
     "text": [
      "Name: langchain-mcp-adapters\n",
      "Version: 0.0.10\n",
      "Summary: Make Anthropic Model Context Protocol (MCP) tools compatible with LangChain and LangGraph agents.\n",
      "Home-page: \n",
      "Author: \n",
      "Author-email: Vadym Barda <19161700+vbarda@users.noreply.github.com>\n",
      "License: \n",
      "Location: /home/suman/.local/lib/python3.10/site-packages\n",
      "Requires: langchain-core, mcp\n",
      "Required-by: \n"
     ]
    }
   ],
   "source": [
    "!pip show langchain-mcp-adapters"
   ]
  },
  {
   "cell_type": "code",
   "execution_count": 2,
   "id": "ffac872f",
   "metadata": {},
   "outputs": [
    {
     "name": "stdout",
     "output_type": "stream",
     "text": [
      "Name: langchain\n",
      "Version: 0.3.24\n",
      "Summary: Building applications with LLMs through composability\n",
      "Home-page: \n",
      "Author: \n",
      "Author-email: \n",
      "License: MIT\n",
      "Location: /home/suman/.local/lib/python3.10/site-packages\n",
      "Requires: async-timeout, langchain-core, langchain-text-splitters, langsmith, pydantic, PyYAML, requests, SQLAlchemy\n",
      "Required-by: langchain-community\n"
     ]
    }
   ],
   "source": [
    "!pip show langchain"
   ]
  },
  {
   "cell_type": "code",
   "execution_count": 3,
   "id": "6d656f67",
   "metadata": {},
   "outputs": [
    {
     "name": "stdout",
     "output_type": "stream",
     "text": [
      "Connected to MCP server as test_agent1 at http://localhost:5555/devmode/exampleApplication/privkey/session1/sse?waitForAgents=1&agentId=test_agent&agentDescription=You+are+the+first+test+agent.\n"
     ]
    },
    {
     "name": "stderr",
     "output_type": "stream",
     "text": [
      "Error in sse_reader: \n"
     ]
    }
   ],
   "source": [
    "import urllib.parse\n",
    "base_url_1 = \"http://localhost:5555/devmode/exampleApplication/privkey/session1/sse\"\n",
    "params_1 = {\n",
    "    \"waitForAgents\": 1,\n",
    "    \"agentId\": \"test_agent\",\n",
    "    \"agentDescription\": \"You are the first test agent.\"\n",
    "}\n",
    "query_string = urllib.parse.urlencode(params_1)\n",
    "MCP_SERVER_URL_1 = f\"{base_url_1}?{query_string}\"\n",
    "async def connect_client():\n",
    "    global mcp_client_1\n",
    "    mcp_client_1 = MultiServerMCPClient(\n",
    "        connections={\n",
    "            \"coral\": {\n",
    "                \"transport\": \"sse\",\n",
    "                \"url\": MCP_SERVER_URL_1,\n",
    "                \"timeout\": 5,\n",
    "                \"sse_read_timeout\": 300,\n",
    "            }\n",
    "        }\n",
    "    )\n",
    "    await mcp_client_1.__aenter__()\n",
    "    print(f\"Connected to MCP server as test_agent1 at {MCP_SERVER_URL_1}\")\n",
    "\n",
    "await connect_client()\n"
   ]
  },
  {
   "cell_type": "code",
   "execution_count": 4,
   "id": "5df6efb9",
   "metadata": {},
   "outputs": [
    {
     "name": "stdout",
     "output_type": "stream",
     "text": [
      "Connected to MCP server as test_agent2 at http://localhost:5555/devmode/exampleApplication/privkey/session1/sse?waitForAgents=1&agentId=test_agent2&agentDescription=You+are+the+second+test+agent.\n"
     ]
    },
    {
     "name": "stderr",
     "output_type": "stream",
     "text": [
      "Error in sse_reader: \n"
     ]
    }
   ],
   "source": [
    "import urllib.parse\n",
    "from langchain_mcp_adapters.client import MultiServerMCPClient\n",
    "\n",
    "base_url_2 = \"http://localhost:5555/devmode/exampleApplication/privkey/session1/sse\"\n",
    "params_2 = {\n",
    "    \"waitForAgents\": 1,\n",
    "    \"agentId\": \"test_agent2\",\n",
    "    \"agentDescription\": \"You are the second test agent.\"\n",
    "}\n",
    "query_string_2 = urllib.parse.urlencode(params_2)\n",
    "MCP_SERVER_URL_2 = f\"{base_url_2}?{query_string_2}\"\n",
    "\n",
    "async def connect_second_agent():\n",
    "    global mcp_client_2\n",
    "    mcp_client_2 = MultiServerMCPClient(\n",
    "        connections={\n",
    "            \"coral\": {\n",
    "                \"transport\": \"sse\",\n",
    "                \"url\": MCP_SERVER_URL_2,\n",
    "                \"timeout\": 5,\n",
    "                \"sse_read_timeout\": 300,\n",
    "            }\n",
    "        }\n",
    "    )\n",
    "    await mcp_client_2.__aenter__()\n",
    "    print(f\"Connected to MCP server as test_agent2 at {MCP_SERVER_URL_2}\")\n",
    "\n",
    "await connect_second_agent()\n"
   ]
  },
  {
   "cell_type": "code",
   "execution_count": 5,
   "id": "a4309bb5",
   "metadata": {},
   "outputs": [
    {
     "name": "stdout",
     "output_type": "stream",
     "text": [
      "get_tools result: Available tools for test_agent: ['list_agents', 'create_thread', 'add_participant', 'remove_participant', 'close_thread', 'send_message', 'wait_for_mentions']\n"
     ]
    }
   ],
   "source": [
    "async def get_tools():\n",
    "    global tools_by_name1, tool_names1\n",
    "    try:\n",
    "        tools = mcp_client_1.get_tools()\n",
    "        tool_names1 = [tool.name for tool in tools]\n",
    "        tools_by_name1 = {tool.name: tool for tool in tools}\n",
    "        print(f\"get_tools result: Available tools for test_agent: {tool_names1}\")\n",
    "    except Exception as e:\n",
    "        print(f\"get_tools error: Failed to retrieve tools: {str(e)}\")\n",
    "\n",
    "await get_tools()"
   ]
  },
  {
   "cell_type": "code",
   "execution_count": 6,
   "id": "d9dd9c37",
   "metadata": {},
   "outputs": [
    {
     "name": "stdout",
     "output_type": "stream",
     "text": [
      "get_tools_agent2 result: Available tools for test_agent2: ['list_agents', 'create_thread', 'add_participant', 'remove_participant', 'close_thread', 'send_message', 'wait_for_mentions']\n"
     ]
    }
   ],
   "source": [
    "async def get_tools_agent2():\n",
    "    global tools_by_name2, tool_names2\n",
    "    try:\n",
    "        tools = mcp_client_2.get_tools()\n",
    "        tool_names2 = [tool.name for tool in tools]\n",
    "        tools_by_name2 = {tool.name: tool for tool in tools}\n",
    "        print(f\"get_tools_agent2 result: Available tools for test_agent2: {tool_names2}\")\n",
    "    except Exception as e:\n",
    "        print(f\"get_tools_agent2 error: Failed to retrieve tools for test_agent2: {str(e)}\")\n",
    "\n",
    "await get_tools_agent2()"
   ]
  },
  {
   "cell_type": "code",
   "execution_count": 7,
   "id": "87e74cf6",
   "metadata": {},
   "outputs": [
    {
     "name": "stdout",
     "output_type": "stream",
     "text": [
      "list_agents result:\n",
      "Registered Agents (3):\n",
      "  - ID: user_interaction_agent\n",
      "  - \n",
      "  - Description: An agent that takes the user's input and interacts with other agents to fulfill the request\n",
      "  - ID: test_agent2\n",
      "  - \n",
      "  - Description: You are the second test agent.\n",
      "  - ID: test_agent\n",
      "  - \n",
      "  - Description: You are the first test agent.\n"
     ]
    }
   ],
   "source": [
    "async def list_agents():\n",
    "    try:\n",
    "        result = await tools_by_name1[\"list_agents\"].ainvoke({\n",
    "            \"includeDetails\": True\n",
    "        })\n",
    "        print(\"list_agents result:\")\n",
    "        lines = result.strip().split(\"\\n\")\n",
    "        print(lines[0])  # Header\n",
    "        for line in lines[1:]:\n",
    "            parts = [p.strip() for p in line.split(\",\")]\n",
    "            for part in parts:\n",
    "                print(f\"  - {part}\")\n",
    "    except KeyError:\n",
    "        print(\"list_agents error: Tool 'list_agents' not found\")\n",
    "    except Exception as e:\n",
    "        print(f\"list_agents error: Failed to list agents: {str(e)}\")\n",
    "\n",
    "await list_agents()"
   ]
  },
  {
   "cell_type": "code",
   "execution_count": 8,
   "id": "dee57c0c",
   "metadata": {},
   "outputs": [
    {
     "name": "stdout",
     "output_type": "stream",
     "text": [
      "create_thread result: Thread created successfully:\n",
      "ID: 6baa2eb9-05e6-451e-b3d9-40838b5d78c0\n",
      "Name: test_thread\n",
      "Creator: test_agent\n",
      "Participants: test_agent2, test_agent\n"
     ]
    }
   ],
   "source": [
    "async def create_thread():\n",
    "    global thread_id\n",
    "    try:\n",
    "        result = await tools_by_name1[\"create_thread\"].ainvoke({\n",
    "            \"threadName\": \"test_thread\",\n",
    "            \"participantIds\": [\"test_agent2\"]\n",
    "        })\n",
    "        # Parse thread ID from result (format: \"Thread created successfully:\\nID: <thread_id>\\n...\")\n",
    "        lines = result.strip().split(\"\\n\")\n",
    "        for line in lines:\n",
    "            if line.startswith(\"ID:\"):\n",
    "                thread_id = line.split(\":\", 1)[1].strip()\n",
    "                break\n",
    "        else:\n",
    "            thread_id = None\n",
    "            print(\"create_thread warning: Thread ID not found in result\")\n",
    "        print(f\"create_thread result: {result}\")\n",
    "    except KeyError:\n",
    "        print(\"create_thread error: Tool 'create_thread' not found\")\n",
    "    except Exception as e:\n",
    "        print(f\"create_thread error: Failed to create thread: {str(e)}\")\n",
    "\n",
    "await create_thread()"
   ]
  },
  {
   "cell_type": "code",
   "execution_count": 9,
   "id": "a4ebadd3",
   "metadata": {},
   "outputs": [
    {
     "name": "stdout",
     "output_type": "stream",
     "text": [
      "send_message result: Message sent successfully:\n",
      "ID: fbae34c6-d585-4830-a24b-5bd5f72adf53\n",
      "Thread: 6baa2eb9-05e6-451e-b3d9-40838b5d78c0\n",
      "Sender: test_agent\n",
      "Content: Hello, this is a message from Agent1!\n",
      "Mentions: test_agent2\n"
     ]
    }
   ],
   "source": [
    "async def send_message():\n",
    "    try:\n",
    "        if thread_id is None:\n",
    "            print(\"send_message error: No thread ID available\")\n",
    "            return\n",
    "        result = await tools_by_name1[\"send_message\"].ainvoke({\n",
    "            \"threadId\": thread_id,\n",
    "            \"content\": \"Hello, this is a message from Agent1!\",  # Updated to match received message\n",
    "            \"mentions\": [\"test_agent2\"]\n",
    "        })\n",
    "        print(f\"send_message result: {result}\")\n",
    "    except KeyError:\n",
    "        print(\"send_message error: Tool 'send_message' not found\")\n",
    "    except Exception as e:\n",
    "        print(f\"send_message error: Failed to send message: {str(e)}\")\n",
    "\n",
    "await send_message()"
   ]
  },
  {
   "cell_type": "code",
   "execution_count": 12,
   "id": "da0c987c",
   "metadata": {},
   "outputs": [
    {
     "name": "stdout",
     "output_type": "stream",
     "text": [
      "wait_for_mentions_agent2 error: Failed to wait for mentions: name 'tools_by_name2' is not defined\n"
     ]
    }
   ],
   "source": [
    "async def wait_for_mentions_agent2():\n",
    "    try:\n",
    "        result = await tools_by_name2[\"wait_for_mentions\"].ainvoke({\n",
    "            \"timeoutMs\": 8000\n",
    "        })\n",
    "        print(f\"wait_for_mentions_agent2 result: {result}\")\n",
    "    except KeyError:\n",
    "        print(\"wait_for_mentions_agent2 error: Tool 'wait_for_mentions' not found\")\n",
    "    except Exception as e:\n",
    "        print(f\"wait_for_mentions_agent2 error: Failed to wait for mentions: {str(e)}\")\n",
    "\n",
    "await wait_for_mentions_agent2()"
   ]
  },
  {
   "cell_type": "code",
   "execution_count": 13,
   "id": "30a2cfe4",
   "metadata": {},
   "outputs": [
    {
     "name": "stdout",
     "output_type": "stream",
     "text": [
      "send_another_message error: Failed to send message: name 'tools_by_name2' is not defined\n"
     ]
    }
   ],
   "source": [
    "async def send_another_message():\n",
    "    try:\n",
    "        if thread_id is None:\n",
    "            print(\"send_another_message error: No thread ID available\")\n",
    "            return\n",
    "        result = await tools_by_name2[\"send_message\"].ainvoke({\n",
    "            \"threadId\": thread_id,\n",
    "            \"content\": \"Hi, I received your message!\",\n",
    "            \"mentions\": [\"test_agent\"]\n",
    "        })\n",
    "        print(f\"send_another_message result: {result}\")\n",
    "    except KeyError:\n",
    "        print(\"send_another_message error: Tool 'send_message' not found\")\n",
    "    except Exception as e:\n",
    "        print(f\"send_another_message error: Failed to send message: {str(e)}\")\n",
    "\n",
    "await send_another_message()"
   ]
  },
  {
   "cell_type": "code",
   "execution_count": 14,
   "id": "7064018d",
   "metadata": {},
   "outputs": [
    {
     "name": "stderr",
     "output_type": "stream",
     "text": [
      "Error in post_writer: \n",
      "Error in sse_reader: peer closed connection without sending complete message body (incomplete chunked read)\n"
     ]
    },
    {
     "name": "stdout",
     "output_type": "stream",
     "text": [
      "wait_for_mentions_agent2 result: No new messages received within the timeout period\n"
     ]
    },
    {
     "data": {
      "text/plain": [
       "'No new messages received within the timeout period'"
      ]
     },
     "execution_count": 14,
     "metadata": {},
     "output_type": "execute_result"
    }
   ],
   "source": [
    "async def wait_for_mentions_agent2():\n",
    "    try:\n",
    "        result = await tools_by_name1[\"wait_for_mentions\"].ainvoke({\"timeoutMs\": 8000})\n",
    "        print(f\"wait_for_mentions_agent2 result: {result}\")\n",
    "        return result\n",
    "    except KeyError:\n",
    "        print(\"wait_for_mentions_agent2 error: Tool 'wait_for_mentions' not found\")\n",
    "        return None\n",
    "    except Exception as e:\n",
    "        print(f\"wait_for_mentions_agent2 error: Failed to wait for mentions: {str(e)}\")\n",
    "    return None\n",
    "\n",
    "await wait_for_mentions_agent2()"
   ]
  },
  {
   "cell_type": "code",
   "execution_count": 27,
   "id": "ea8e82b1",
   "metadata": {},
   "outputs": [],
   "source": [
    "# for this test we have already added a participant to the thread, hence it will fail\n",
    "# async def add_participant():\n",
    "#     result = await tools_by_name1[\"add_participant\"].ainvoke({\n",
    "#         \"threadId\": \"753f0f70-972d-45dd-86b6-372ec49c6767\",\n",
    "#         \"participantId\": \"test_agent3\"\n",
    "#     })\n",
    "#     print(f\"Add participant result: {result}\")\n",
    "\n",
    "# await add_participant()"
   ]
  },
  {
   "cell_type": "code",
   "execution_count": 28,
   "id": "a563d6d0",
   "metadata": {},
   "outputs": [],
   "source": [
    "# async def remove_participant():\n",
    "#     result = await tools_by_name1[\"remove_participant\"].ainvoke({\n",
    "#         \"threadId\": \"753f0f70-972d-45dd-86b6-372ec49c6767\",\n",
    "#         \"participantId\": \"test_agent2\"\n",
    "#     })\n",
    "#     print(f\"Remove participant result: {result}\")\n",
    "\n",
    "# await remove_participant()"
   ]
  },
  {
   "cell_type": "code",
   "execution_count": 29,
   "id": "bb119bdb",
   "metadata": {},
   "outputs": [],
   "source": [
    "# async def close_thread():\n",
    "#     result = await tools_by_name1[\"close_thread\"].ainvoke({\n",
    "#         \"threadId\": \"753f0f70-972d-45dd-86b6-372ec49c6767\",\n",
    "#         \"summary\": \"Discussion completed between test_agent and test_agent2.\"\n",
    "#     })\n",
    "#     print(f\"Close thread result: {result}\")\n",
    "\n",
    "# await close_thread()"
   ]
  }
 ],
 "metadata": {
  "kernelspec": {
   "display_name": "Python 3",
   "language": "python",
   "name": "python3"
  },
  "language_info": {
   "codemirror_mode": {
    "name": "ipython",
    "version": 3
   },
   "file_extension": ".py",
   "mimetype": "text/x-python",
   "name": "python",
   "nbconvert_exporter": "python",
   "pygments_lexer": "ipython3",
   "version": "3.10.12"
  }
 },
 "nbformat": 4,
 "nbformat_minor": 5
}
